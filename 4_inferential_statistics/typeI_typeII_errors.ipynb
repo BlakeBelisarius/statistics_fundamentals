{
 "cells": [
  {
   "cell_type": "markdown",
   "metadata": {},
   "source": [
    "# Hypothesis Testing: Type I and Type II Errors\n",
    "\n",
    "In this notebook, we will simulate two types of hypothesis testing errors:  \n",
    "- **Type I Error (False Positive)**: Rejecting a true null hypothesis.  \n",
    "- **Type II Error (False Negative)**: Failing to reject a false null hypothesis.  \n",
    "\n",
    "We will use simple simulations with randomly generated data to visualize these errors in practice."
   ]
  },
  {
   "cell_type": "markdown",
   "metadata": {},
   "source": [
    "*By Blake Zenuni*  \n",
    " + My github: https://github.com/BlakeBelisarius**   \n",
    " + Project in this repo: https://github.com/BlakeBelisarius/MacroMarketPulse**  \n",
    " + Yellowbrick from DistrictDataLabs Repo to produce visualizations for your machine learning workflow: https://github.com/BlakeBelisarius/yellowbrick**\n",
    "\n",
    "---"
   ]
  },
  {
   "cell_type": "code",
   "execution_count": 2,
   "metadata": {},
   "outputs": [],
   "source": [
    "import numpy as np\n",
    "from scipy import stats\n",
    "import matplotlib.pyplot as plt"
   ]
  },
  {
   "cell_type": "code",
   "execution_count": 3,
   "metadata": {},
   "outputs": [
    {
     "name": "stdout",
     "output_type": "stream",
     "text": [
      "T-statistic: -1.1450, P-value: 0.2616\n",
      "No Type I error: We failed to reject the null hypothesis.\n"
     ]
    }
   ],
   "source": [
    "# Set parameters\n",
    "np.random.seed(42)\n",
    "alpha = 0.05  # Significance level\n",
    "n = 30        # Sample size\n",
    "mu_null = 0   # Null hypothesis (no effect)\n",
    "\n",
    "# Simulate data under the null hypothesis\n",
    "data_null = np.random.normal(mu_null, 1, n)\n",
    "\n",
    "# Perform a t-test under the null hypothesis\n",
    "t_stat_null, p_value_null = stats.ttest_1samp(data_null, popmean=mu_null)\n",
    "type_I_error = p_value_null < alpha  # Type I error occurs if we reject the null hypothesis\n",
    "\n",
    "# Output results\n",
    "print(f\"T-statistic: {t_stat_null:.4f}, P-value: {p_value_null:.4f}\")\n",
    "if type_I_error:\n",
    "    print(\"Type I error occurred: We rejected the null hypothesis when it was true.\")\n",
    "else:\n",
    "    print(\"No Type I error: We failed to reject the null hypothesis.\")\n"
   ]
  },
  {
   "cell_type": "code",
   "execution_count": 4,
   "metadata": {},
   "outputs": [
    {
     "name": "stdout",
     "output_type": "stream",
     "text": [
      "T-statistic: 5.1698, P-value: 0.0000\n",
      "No Type II error: We correctly rejected the null hypothesis.\n"
     ]
    }
   ],
   "source": [
    "# Set parameters for the alternative hypothesis\n",
    "mu_effective = 1.0  # Alternative hypothesis (true effect)\n",
    "\n",
    "# Simulate data under the alternative hypothesis\n",
    "data_effective = np.random.normal(mu_effective, 1, n)\n",
    "\n",
    "# Perform a t-test under the alternative hypothesis\n",
    "t_stat_effective, p_value_effective = stats.ttest_1samp(data_effective, popmean=mu_null)\n",
    "type_II_error = p_value_effective > alpha  # Type II error occurs if we fail to reject the null hypothesis\n",
    "\n",
    "# Output results\n",
    "print(f\"T-statistic: {t_stat_effective:.4f}, P-value: {p_value_effective:.4f}\")\n",
    "if type_II_error:\n",
    "    print(\"Type II error occurred: We failed to reject the null hypothesis when it was false.\")\n",
    "else:\n",
    "    print(\"No Type II error: We correctly rejected the null hypothesis.\")\n"
   ]
  },
  {
   "cell_type": "markdown",
   "metadata": {},
   "source": [
    "## Conclusion\n",
    "\n",
    "In this notebook, we simulated two types of errors in hypothesis testing:\n",
    "\n",
    "- **Type I Error (False Positive)**: Occurs when we reject the null hypothesis when it is actually true.\n",
    "- **Type II Error (False Negative)**: Occurs when we fail to reject the null hypothesis when the alternative hypothesis is true.\n",
    "\n",
    "These simulations highlight the risks of making incorrect decisions based on sample data, and the importance of choosing appropriate significance levels and sample sizes to minimize these errors."
   ]
  }
 ],
 "metadata": {
  "kernelspec": {
   "display_name": "Python 3",
   "language": "python",
   "name": "python3"
  },
  "language_info": {
   "codemirror_mode": {
    "name": "ipython",
    "version": 3
   },
   "file_extension": ".py",
   "mimetype": "text/x-python",
   "name": "python",
   "nbconvert_exporter": "python",
   "pygments_lexer": "ipython3",
   "version": "3.10.11"
  }
 },
 "nbformat": 4,
 "nbformat_minor": 2
}
