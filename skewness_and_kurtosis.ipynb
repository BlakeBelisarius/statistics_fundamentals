{
 "cells": [
  {
   "cell_type": "markdown",
   "metadata": {},
   "source": [
    "\n",
    "\n",
    "In this notebook, we'll be calculating and visualizing skewness and kurtosis of a dataset using scipy.stats.skew() and scipy.stats.kurtosis(). These measures are essential for determining the symmetry and tail behavior of a distribution, which can affect both descriptive and inferential statistics.\n",
    "---\n",
    "\n",
    "Steps:\n",
    " + Generate a normal and a skewed dataset.\n",
    " + Calculate skewness and kurtosis.\n",
    " + Visualize the distributions and show the calculated skewness and kurtosis values."
   ]
  }
 ],
 "metadata": {
  "language_info": {
   "name": "python"
  }
 },
 "nbformat": 4,
 "nbformat_minor": 2
}
