{
 "cells": [
  {
   "cell_type": "markdown",
   "metadata": {},
   "source": [
    "# Introduction to Bayesian Probability\n",
    "\n",
    "**Bayesian probability** provides a mathematical framework for updating beliefs or probabilities based on new evidence. It is grounded in **Bayes' Theorem**, which describes the probability of an event, based on prior knowledge of conditions that might be related to the event.\n",
    "\n",
    "### Bayes' Theorem Formula:\n",
    "\n",
    "\\[\n",
    "P(A|B) = \\frac{P(B|A) \\cdot P(A)}{P(B)}\n",
    "\\]\n",
    "\n",
    "Where:\n",
    "- \\(P(A|B)\\) is the **posterior probability**: The probability of event A happening given that B has occurred.\n",
    "- \\(P(B|A)\\) is the **likelihood**: The probability of event B occurring given that A has occurred.\n",
    "- \\(P(A)\\) is the **prior probability**: The probability of event A occurring without any knowledge of B.\n",
    "- \\(P(B)\\) is the **marginal likelihood**: The total probability of event B occurring.\n",
    "\n",
    "In this notebook, we'll walk through a simple example: calculating the probability that a person has a certain disease, given that they tested positive for it.\n",
    "\n",
    "---\n"
   ]
  },
  {
   "cell_type": "code",
   "execution_count": 2,
   "metadata": {},
   "outputs": [],
   "source": [
    "# Import necessary libraries\n",
    "import numpy as np"
   ]
  },
  {
   "cell_type": "markdown",
   "metadata": {},
   "source": [
    "## Example: Medical Testing with Bayesian Probability\n",
    "\n",
    "### Problem:\n",
    "Let's assume:\n",
    "- 1% of the population has a particular disease. (Prior probability: P(Disease) = 0.01)\n",
    "- The test for the disease is 90% accurate for those who have the disease. (Likelihood: P(Test Positive | Disease) = 0.90)\n",
    "- The test gives a false positive 5% of the time for people who do not have the disease. (P(Test Positive | No Disease) = 0.05)\n",
    "\n",
    "Now, given that a person tested positive, we want to calculate the probability that they actually have the disease using **Bayes' Theorem**.\n"
   ]
  },
  {
   "cell_type": "code",
   "execution_count": 4,
   "metadata": {},
   "outputs": [
    {
     "name": "stdout",
     "output_type": "stream",
     "text": [
      "Probability of having the disease given a positive test result: 0.1538\n"
     ]
    }
   ],
   "source": [
    "# Define the probabilities\n",
    "P_disease = 0.01  # Prior probability of having the disease\n",
    "P_no_disease = 1 - P_disease  # Probability of not having the disease\n",
    "\n",
    "P_test_positive_given_disease = 0.90  # Likelihood (True Positive Rate)\n",
    "P_test_positive_given_no_disease = 0.05  # False Positive Rate\n",
    "\n",
    "# Total probability of a positive test result (marginal likelihood)\n",
    "P_test_positive = (P_test_positive_given_disease * P_disease) + (P_test_positive_given_no_disease * P_no_disease)\n",
    "\n",
    "# Applying Bayes' Theorem to calculate the posterior probability\n",
    "P_disease_given_test_positive = (P_test_positive_given_disease * P_disease) / P_test_positive\n",
    "\n",
    "# Print the result\n",
    "print(f\"Probability of having the disease given a positive test result: {P_disease_given_test_positive:.4f}\")"
   ]
  },
  {
   "cell_type": "markdown",
   "metadata": {},
   "source": [
    "## Interpretation\n",
    "\n",
    "Using **Bayes' Theorem**, we calculate that the probability of a person actually having the disease given that they tested positive is much lower than you might intuitively expect.\n",
    "\n",
    "Even though the test has a 90% accuracy rate, because the disease is rare (only 1% of the population has it), the probability that a person with a positive test actually has the disease is still relatively low.\n",
    "\n",
    "This is a classic example of how **Bayesian reasoning** can help us adjust our beliefs based on prior information and new evidence.\n"
   ]
  }
 ],
 "metadata": {
  "kernelspec": {
   "display_name": "Python 3",
   "language": "python",
   "name": "python3"
  },
  "language_info": {
   "codemirror_mode": {
    "name": "ipython",
    "version": 3
   },
   "file_extension": ".py",
   "mimetype": "text/x-python",
   "name": "python",
   "nbconvert_exporter": "python",
   "pygments_lexer": "ipython3",
   "version": "3.10.11"
  }
 },
 "nbformat": 4,
 "nbformat_minor": 2
}
